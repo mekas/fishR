{
  "nbformat": 4,
  "nbformat_minor": 0,
  "metadata": {
    "colab": {
      "name": "faceid_vggc.ipynb",
      "provenance": [],
      "collapsed_sections": [],
      "toc_visible": true
    },
    "kernelspec": {
      "name": "python3",
      "display_name": "Python 3"
    },
    "accelerator": "GPU"
  },
  "cells": [
    {
      "cell_type": "code",
      "metadata": {
        "id": "IvA_pUIOwqoI",
        "colab_type": "code",
        "colab": {}
      },
      "source": [
        "import keras,os\n",
        "from keras.models import Sequential\n",
        "from keras.layers import Dense, Conv2D, MaxPool2D , Flatten\n",
        "from keras.preprocessing.image import ImageDataGenerator\n",
        "import numpy as np"
      ],
      "execution_count": 63,
      "outputs": []
    },
    {
      "cell_type": "code",
      "metadata": {
        "id": "Uia5hybvRBD0",
        "colab_type": "code",
        "colab": {}
      },
      "source": [
        "train_path = 'drive/My Drive/lfw_dataset/people' #input dataset"
      ],
      "execution_count": 64,
      "outputs": []
    },
    {
      "cell_type": "markdown",
      "metadata": {
        "id": "6HfIH9e4Bsll",
        "colab_type": "text"
      },
      "source": [
        "# Data Preparation "
      ]
    },
    {
      "cell_type": "markdown",
      "metadata": {
        "id": "rzaWQQgueLUP",
        "colab_type": "text"
      },
      "source": [
        "1. **data split & augmentation**"
      ]
    },
    {
      "cell_type": "code",
      "metadata": {
        "id": "tV3yTstSEmUX",
        "colab_type": "code",
        "colab": {}
      },
      "source": [
        "train_datagen = ImageDataGenerator(validation_split=0.2) #split validation"
      ],
      "execution_count": 65,
      "outputs": []
    },
    {
      "cell_type": "markdown",
      "metadata": {
        "id": "EdF4quSymZvW",
        "colab_type": "text"
      },
      "source": [
        "2. **data flow**"
      ]
    },
    {
      "cell_type": "code",
      "metadata": {
        "id": "YMpj66PBmeYd",
        "colab_type": "code",
        "colab": {
          "base_uri": "https://localhost:8080/",
          "height": 52
        },
        "outputId": "1c5f6e16-3f9f-4424-bcbe-454d99af5361"
      },
      "source": [
        "train_generator = train_datagen.flow_from_directory(train_path, \n",
        "                                                    target_size=(224,224),\n",
        "                                                    subset='training'\n",
        "                                                    )\n",
        "\n",
        "val_generator = train_datagen.flow_from_directory(train_path, # same directory as training data\n",
        "                                                  target_size=(224,224),\n",
        "                                                  subset='validation' # set as validation data\n",
        "                                                  )"
      ],
      "execution_count": 66,
      "outputs": [
        {
          "output_type": "stream",
          "text": [
            "Found 400 images belonging to 10 classes.\n",
            "Found 100 images belonging to 10 classes.\n"
          ],
          "name": "stdout"
        }
      ]
    },
    {
      "cell_type": "code",
      "metadata": {
        "id": "q5ziyh-Aaskc",
        "colab_type": "code",
        "colab": {
          "base_uri": "https://localhost:8080/",
          "height": 320
        },
        "outputId": "6fc627ab-441c-4f80-ff2b-0ac2e77692b4"
      },
      "source": [
        "# Label\n",
        "classes = train_generator.class_indices\n",
        "\n",
        "label_map = np.array(list(classes.items()))\n",
        "\n",
        "label = label_map[:,0].tolist()\n",
        "map = label_map[:,1].tolist()\n",
        "\n",
        "print(label_map)\n",
        "print('\\n')\n",
        "print(label)\n",
        "print('\\n')\n",
        "print(map)"
      ],
      "execution_count": 67,
      "outputs": [
        {
          "output_type": "stream",
          "text": [
            "[['Ariel_Sharon' '0']\n",
            " ['Colin_Powell' '1']\n",
            " ['Donald_Rumsfeld' '2']\n",
            " ['George_W_Bush' '3']\n",
            " ['Gerhard_Schroeder' '4']\n",
            " ['Hugo_Chavez' '5']\n",
            " ['Jean_Chretien' '6']\n",
            " ['John_Ashcroft' '7']\n",
            " ['Junichiro_Koizumi' '8']\n",
            " ['Tony_Blair' '9']]\n",
            "\n",
            "\n",
            "['Ariel_Sharon', 'Colin_Powell', 'Donald_Rumsfeld', 'George_W_Bush', 'Gerhard_Schroeder', 'Hugo_Chavez', 'Jean_Chretien', 'John_Ashcroft', 'Junichiro_Koizumi', 'Tony_Blair']\n",
            "\n",
            "\n",
            "['0', '1', '2', '3', '4', '5', '6', '7', '8', '9']\n"
          ],
          "name": "stdout"
        }
      ]
    },
    {
      "cell_type": "markdown",
      "metadata": {
        "id": "2RAdil2xRM8w",
        "colab_type": "text"
      },
      "source": [
        "3. **Global variable for training**"
      ]
    },
    {
      "cell_type": "code",
      "metadata": {
        "id": "WynIBsMnXwvo",
        "colab_type": "code",
        "colab": {}
      },
      "source": [
        "num_of_train_samples = train_generator.n\n",
        "num_of_val_samples = val_generator.n\n",
        "n_classes = val_generator.num_classes\n",
        "batch_size = 32\n",
        "epochs = 50\n",
        "\n",
        "checkpoint_filepath = 'drive/My Drive/saved_model/my_model.h5'"
      ],
      "execution_count": 68,
      "outputs": []
    },
    {
      "cell_type": "markdown",
      "metadata": {
        "id": "CU9Jqc-4FMYH",
        "colab_type": "text"
      },
      "source": [
        "# Model"
      ]
    },
    {
      "cell_type": "code",
      "metadata": {
        "id": "eN8tgYk49BAI",
        "colab_type": "code",
        "colab": {}
      },
      "source": [
        "# reset model\n",
        "model = None\n",
        "hist = None\n",
        "opt = None"
      ],
      "execution_count": 69,
      "outputs": []
    },
    {
      "cell_type": "code",
      "metadata": {
        "id": "HQHobTjnFkwD",
        "colab_type": "code",
        "colab": {
          "base_uri": "https://localhost:8080/",
          "height": 1000
        },
        "outputId": "47dbb838-96cc-4527-c7e4-022452641187"
      },
      "source": [
        "from keras.optimizers import Adam\n",
        "from keras.layers import BatchNormalization, Dropout\n",
        "\n",
        "def my_model():\n",
        "  chanDim = -1\n",
        "  model = Sequential()\n",
        "  model.add(Conv2D(input_shape=(224,224,3),filters=64,kernel_size=(9,9),padding=\"same\", activation=\"relu\"))\n",
        "  model.add(BatchNormalization(axis=chanDim))\n",
        "  model.add(MaxPool2D(pool_size=(2,2),strides=(2,2)))\n",
        "\n",
        "  model.add(Conv2D(filters=128, kernel_size=(7,7), padding=\"same\", activation=\"relu\"))\n",
        "  model.add(BatchNormalization(axis=chanDim))\n",
        "  model.add(MaxPool2D(pool_size=(2,2),strides=(2,2)))\n",
        "  #model.add(Dropout(rate=0.25))\n",
        "\n",
        "  model.add(Conv2D(filters=256, kernel_size=(5,5), padding=\"same\", activation=\"relu\"))\n",
        "  model.add(BatchNormalization(axis=chanDim))\n",
        "  model.add(MaxPool2D(pool_size=(2,2),strides=(2,2)))\n",
        "\n",
        "  model.add(Conv2D(filters=512, kernel_size=(5,5), padding=\"same\", activation=\"relu\"))\n",
        "  model.add(BatchNormalization(axis=chanDim))\n",
        "  model.add(MaxPool2D(pool_size=(2,2),strides=(2,2)))\n",
        "  #model.add(Dropout(rate=0.25))\n",
        "\n",
        "  model.add(Conv2D(filters=512, kernel_size=(3,3), padding=\"same\", activation=\"relu\"))\n",
        "  model.add(BatchNormalization(axis=chanDim))\n",
        "  model.add(MaxPool2D(pool_size=(2,2),strides=(2,2)))\n",
        "\n",
        "  model.add(Flatten())\n",
        "  model.add(Dense(units=4096,activation=\"relu\"))\n",
        "  model.add(BatchNormalization())\n",
        "  model.add(Dropout(rate=0.25))\n",
        "  model.add(Dense(units=1024,activation=\"relu\"))\n",
        "  model.add(BatchNormalization())\n",
        "  model.add(Dropout(rate=0.25))\n",
        "  model.add(Dense(units=256,activation=\"relu\"))\n",
        "  model.add(BatchNormalization())\n",
        "  model.add(Dropout(rate=0.25))\n",
        "  model.add(Dense(units=64,activation=\"relu\"))\n",
        "  model.add(BatchNormalization())\n",
        "  model.add(Dropout(rate=0.25))\n",
        "  model.add(Dense(units=8,activation=\"relu\"))\n",
        "  model.add(BatchNormalization())\n",
        "  model.add(Dropout(rate=0.25))\n",
        "  model.add(Dense(units=n_classes, activation=\"softmax\"))\n",
        "\n",
        "  opt = Adam(learning_rate=0.0005,\n",
        "             beta_1=0.8,\n",
        "             beta_2=0.9,)\n",
        "  \n",
        "  model.compile(optimizer=opt, \n",
        "                loss=keras.losses.categorical_crossentropy, \n",
        "                metrics=['accuracy'])  \n",
        "\n",
        "  return model\n",
        "\n",
        "\n",
        "model = my_model()\n",
        "\n",
        "model.summary()"
      ],
      "execution_count": 70,
      "outputs": [
        {
          "output_type": "stream",
          "text": [
            "Model: \"sequential_4\"\n",
            "_________________________________________________________________\n",
            "Layer (type)                 Output Shape              Param #   \n",
            "=================================================================\n",
            "conv2d_16 (Conv2D)           (None, 224, 224, 64)      15616     \n",
            "_________________________________________________________________\n",
            "batch_normalization_31 (Batc (None, 224, 224, 64)      256       \n",
            "_________________________________________________________________\n",
            "max_pooling2d_16 (MaxPooling (None, 112, 112, 64)      0         \n",
            "_________________________________________________________________\n",
            "conv2d_17 (Conv2D)           (None, 112, 112, 128)     401536    \n",
            "_________________________________________________________________\n",
            "batch_normalization_32 (Batc (None, 112, 112, 128)     512       \n",
            "_________________________________________________________________\n",
            "max_pooling2d_17 (MaxPooling (None, 56, 56, 128)       0         \n",
            "_________________________________________________________________\n",
            "conv2d_18 (Conv2D)           (None, 56, 56, 256)       819456    \n",
            "_________________________________________________________________\n",
            "batch_normalization_33 (Batc (None, 56, 56, 256)       1024      \n",
            "_________________________________________________________________\n",
            "max_pooling2d_18 (MaxPooling (None, 28, 28, 256)       0         \n",
            "_________________________________________________________________\n",
            "conv2d_19 (Conv2D)           (None, 28, 28, 512)       3277312   \n",
            "_________________________________________________________________\n",
            "batch_normalization_34 (Batc (None, 28, 28, 512)       2048      \n",
            "_________________________________________________________________\n",
            "max_pooling2d_19 (MaxPooling (None, 14, 14, 512)       0         \n",
            "_________________________________________________________________\n",
            "conv2d_20 (Conv2D)           (None, 14, 14, 512)       2359808   \n",
            "_________________________________________________________________\n",
            "batch_normalization_35 (Batc (None, 14, 14, 512)       2048      \n",
            "_________________________________________________________________\n",
            "max_pooling2d_20 (MaxPooling (None, 7, 7, 512)         0         \n",
            "_________________________________________________________________\n",
            "flatten_4 (Flatten)          (None, 25088)             0         \n",
            "_________________________________________________________________\n",
            "dense_19 (Dense)             (None, 4096)              102764544 \n",
            "_________________________________________________________________\n",
            "batch_normalization_36 (Batc (None, 4096)              16384     \n",
            "_________________________________________________________________\n",
            "dropout_16 (Dropout)         (None, 4096)              0         \n",
            "_________________________________________________________________\n",
            "dense_20 (Dense)             (None, 1024)              4195328   \n",
            "_________________________________________________________________\n",
            "batch_normalization_37 (Batc (None, 1024)              4096      \n",
            "_________________________________________________________________\n",
            "dropout_17 (Dropout)         (None, 1024)              0         \n",
            "_________________________________________________________________\n",
            "dense_21 (Dense)             (None, 256)               262400    \n",
            "_________________________________________________________________\n",
            "batch_normalization_38 (Batc (None, 256)               1024      \n",
            "_________________________________________________________________\n",
            "dropout_18 (Dropout)         (None, 256)               0         \n",
            "_________________________________________________________________\n",
            "dense_22 (Dense)             (None, 64)                16448     \n",
            "_________________________________________________________________\n",
            "batch_normalization_39 (Batc (None, 64)                256       \n",
            "_________________________________________________________________\n",
            "dropout_19 (Dropout)         (None, 64)                0         \n",
            "_________________________________________________________________\n",
            "dense_23 (Dense)             (None, 8)                 520       \n",
            "_________________________________________________________________\n",
            "batch_normalization_40 (Batc (None, 8)                 32        \n",
            "_________________________________________________________________\n",
            "dropout_20 (Dropout)         (None, 8)                 0         \n",
            "_________________________________________________________________\n",
            "dense_24 (Dense)             (None, 10)                90        \n",
            "=================================================================\n",
            "Total params: 114,140,738\n",
            "Trainable params: 114,126,898\n",
            "Non-trainable params: 13,840\n",
            "_________________________________________________________________\n"
          ],
          "name": "stdout"
        }
      ]
    },
    {
      "cell_type": "markdown",
      "metadata": {
        "id": "SdNENuzIF8LZ",
        "colab_type": "text"
      },
      "source": [
        "# Train"
      ]
    },
    {
      "cell_type": "code",
      "metadata": {
        "id": "PTPg5izAGB53",
        "colab_type": "code",
        "colab": {
          "base_uri": "https://localhost:8080/",
          "height": 1000
        },
        "outputId": "49ff0dc0-cbe4-4740-8fbb-c085114caf1f"
      },
      "source": [
        "from keras.callbacks import ModelCheckpoint\n",
        "\n",
        "checkpoint = ModelCheckpoint(mymodel_path, \n",
        "                             verbose=1,\n",
        "                             monitor='val_accuracy',\n",
        "                             save_best_only=True, \n",
        "                             save_weights_only=False, \n",
        "                             mode='auto')\n",
        "\n",
        "hist = model.fit(train_generator,\n",
        "                 steps_per_epoch=num_of_train_samples // batch_size,\n",
        "                 epochs=epochs,\n",
        "                 validation_data=val_generator,\n",
        "                 validation_steps=num_of_val_samples // batch_size,\n",
        "                 callbacks=[checkpoint])"
      ],
      "execution_count": 71,
      "outputs": [
        {
          "output_type": "stream",
          "text": [
            "Epoch 1/50\n",
            "12/12 [==============================] - 9s 738ms/step - loss: 2.6206 - accuracy: 0.1196 - val_loss: 365.5289 - val_accuracy: 0.1042\n",
            "\n",
            "Epoch 00001: val_accuracy improved from -inf to 0.10417, saving model to drive/My Drive/saved_model/my_model.h5\n",
            "Epoch 2/50\n",
            "12/12 [==============================] - 7s 559ms/step - loss: 2.3498 - accuracy: 0.1875 - val_loss: 208.2320 - val_accuracy: 0.0735\n",
            "\n",
            "Epoch 00002: val_accuracy did not improve from 0.10417\n",
            "Epoch 3/50\n",
            "12/12 [==============================] - 6s 528ms/step - loss: 2.1874 - accuracy: 0.2174 - val_loss: 148.6240 - val_accuracy: 0.1176\n",
            "\n",
            "Epoch 00003: val_accuracy improved from 0.10417 to 0.11765, saving model to drive/My Drive/saved_model/my_model.h5\n",
            "Epoch 4/50\n",
            "12/12 [==============================] - 6s 519ms/step - loss: 2.1941 - accuracy: 0.2554 - val_loss: 35.6730 - val_accuracy: 0.1912\n",
            "\n",
            "Epoch 00004: val_accuracy improved from 0.11765 to 0.19118, saving model to drive/My Drive/saved_model/my_model.h5\n",
            "Epoch 5/50\n",
            "12/12 [==============================] - 6s 526ms/step - loss: 2.1088 - accuracy: 0.2826 - val_loss: 101.3699 - val_accuracy: 0.1042\n",
            "\n",
            "Epoch 00005: val_accuracy did not improve from 0.19118\n",
            "Epoch 6/50\n",
            "12/12 [==============================] - 7s 546ms/step - loss: 2.0151 - accuracy: 0.2604 - val_loss: 51.9402 - val_accuracy: 0.1324\n",
            "\n",
            "Epoch 00006: val_accuracy did not improve from 0.19118\n",
            "Epoch 7/50\n",
            "12/12 [==============================] - 6s 532ms/step - loss: 1.9919 - accuracy: 0.2826 - val_loss: 80.0672 - val_accuracy: 0.1618\n",
            "\n",
            "Epoch 00007: val_accuracy did not improve from 0.19118\n",
            "Epoch 8/50\n",
            "12/12 [==============================] - 6s 523ms/step - loss: 1.8678 - accuracy: 0.3777 - val_loss: 31.8708 - val_accuracy: 0.1176\n",
            "\n",
            "Epoch 00008: val_accuracy did not improve from 0.19118\n",
            "Epoch 9/50\n",
            "12/12 [==============================] - 6s 524ms/step - loss: 1.9462 - accuracy: 0.2962 - val_loss: 60.5570 - val_accuracy: 0.0938\n",
            "\n",
            "Epoch 00009: val_accuracy did not improve from 0.19118\n",
            "Epoch 10/50\n",
            "12/12 [==============================] - 6s 521ms/step - loss: 1.7448 - accuracy: 0.3696 - val_loss: 23.6398 - val_accuracy: 0.1029\n",
            "\n",
            "Epoch 00010: val_accuracy did not improve from 0.19118\n",
            "Epoch 11/50\n",
            "12/12 [==============================] - 6s 507ms/step - loss: 1.7734 - accuracy: 0.3807 - val_loss: 23.0166 - val_accuracy: 0.0735\n",
            "\n",
            "Epoch 00011: val_accuracy did not improve from 0.19118\n",
            "Epoch 12/50\n",
            "12/12 [==============================] - 6s 514ms/step - loss: 1.6385 - accuracy: 0.4076 - val_loss: 23.0992 - val_accuracy: 0.1471\n",
            "\n",
            "Epoch 00012: val_accuracy did not improve from 0.19118\n",
            "Epoch 13/50\n",
            "12/12 [==============================] - 6s 538ms/step - loss: 1.5981 - accuracy: 0.4661 - val_loss: 15.8214 - val_accuracy: 0.1354\n",
            "\n",
            "Epoch 00013: val_accuracy did not improve from 0.19118\n",
            "Epoch 14/50\n",
            "12/12 [==============================] - 6s 519ms/step - loss: 1.5001 - accuracy: 0.5027 - val_loss: 7.5017 - val_accuracy: 0.2059\n",
            "\n",
            "Epoch 00014: val_accuracy improved from 0.19118 to 0.20588, saving model to drive/My Drive/saved_model/my_model.h5\n",
            "Epoch 15/50\n",
            "12/12 [==============================] - 6s 518ms/step - loss: 1.4116 - accuracy: 0.5571 - val_loss: 11.6724 - val_accuracy: 0.0882\n",
            "\n",
            "Epoch 00015: val_accuracy did not improve from 0.20588\n",
            "Epoch 16/50\n",
            "12/12 [==============================] - 6s 515ms/step - loss: 1.4330 - accuracy: 0.5489 - val_loss: 6.7027 - val_accuracy: 0.1618\n",
            "\n",
            "Epoch 00016: val_accuracy did not improve from 0.20588\n",
            "Epoch 17/50\n",
            "12/12 [==============================] - 6s 526ms/step - loss: 1.4218 - accuracy: 0.5598 - val_loss: 4.2081 - val_accuracy: 0.2292\n",
            "\n",
            "Epoch 00017: val_accuracy improved from 0.20588 to 0.22917, saving model to drive/My Drive/saved_model/my_model.h5\n",
            "Epoch 18/50\n",
            "12/12 [==============================] - 6s 528ms/step - loss: 1.3366 - accuracy: 0.5978 - val_loss: 7.1552 - val_accuracy: 0.1471\n",
            "\n",
            "Epoch 00018: val_accuracy did not improve from 0.22917\n",
            "Epoch 19/50\n",
            "12/12 [==============================] - 6s 532ms/step - loss: 1.2919 - accuracy: 0.6196 - val_loss: 6.2979 - val_accuracy: 0.0588\n",
            "\n",
            "Epoch 00019: val_accuracy did not improve from 0.22917\n",
            "Epoch 20/50\n",
            "12/12 [==============================] - 6s 539ms/step - loss: 1.2307 - accuracy: 0.6875 - val_loss: 6.7595 - val_accuracy: 0.2500\n",
            "\n",
            "Epoch 00020: val_accuracy improved from 0.22917 to 0.25000, saving model to drive/My Drive/saved_model/my_model.h5\n",
            "Epoch 21/50\n",
            "12/12 [==============================] - 6s 505ms/step - loss: 1.2542 - accuracy: 0.6449 - val_loss: 4.9658 - val_accuracy: 0.1875\n",
            "\n",
            "Epoch 00021: val_accuracy did not improve from 0.25000\n",
            "Epoch 22/50\n",
            "12/12 [==============================] - 6s 538ms/step - loss: 1.1767 - accuracy: 0.6771 - val_loss: 2.2895 - val_accuracy: 0.1912\n",
            "\n",
            "Epoch 00022: val_accuracy did not improve from 0.25000\n",
            "Epoch 23/50\n",
            "12/12 [==============================] - 6s 514ms/step - loss: 1.1391 - accuracy: 0.7301 - val_loss: 2.3160 - val_accuracy: 0.2059\n",
            "\n",
            "Epoch 00023: val_accuracy did not improve from 0.25000\n",
            "Epoch 24/50\n",
            "12/12 [==============================] - 6s 539ms/step - loss: 1.1097 - accuracy: 0.7552 - val_loss: 3.2360 - val_accuracy: 0.2206\n",
            "\n",
            "Epoch 00024: val_accuracy did not improve from 0.25000\n",
            "Epoch 25/50\n",
            "12/12 [==============================] - 6s 529ms/step - loss: 1.1242 - accuracy: 0.7065 - val_loss: 2.0708 - val_accuracy: 0.3750\n",
            "\n",
            "Epoch 00025: val_accuracy improved from 0.25000 to 0.37500, saving model to drive/My Drive/saved_model/my_model.h5\n",
            "Epoch 26/50\n",
            "12/12 [==============================] - 6s 523ms/step - loss: 1.0479 - accuracy: 0.7147 - val_loss: 2.1680 - val_accuracy: 0.3824\n",
            "\n",
            "Epoch 00026: val_accuracy improved from 0.37500 to 0.38235, saving model to drive/My Drive/saved_model/my_model.h5\n",
            "Epoch 27/50\n",
            "12/12 [==============================] - 6s 525ms/step - loss: 1.0547 - accuracy: 0.7527 - val_loss: 1.9767 - val_accuracy: 0.3824\n",
            "\n",
            "Epoch 00027: val_accuracy did not improve from 0.38235\n",
            "Epoch 28/50\n",
            "12/12 [==============================] - 6s 533ms/step - loss: 1.0011 - accuracy: 0.7995 - val_loss: 1.7740 - val_accuracy: 0.5147\n",
            "\n",
            "Epoch 00028: val_accuracy improved from 0.38235 to 0.51471, saving model to drive/My Drive/saved_model/my_model.h5\n",
            "Epoch 29/50\n",
            "12/12 [==============================] - 6s 509ms/step - loss: 0.9885 - accuracy: 0.8182 - val_loss: 1.6534 - val_accuracy: 0.3542\n",
            "\n",
            "Epoch 00029: val_accuracy did not improve from 0.51471\n",
            "Epoch 30/50\n",
            "12/12 [==============================] - 6s 527ms/step - loss: 0.9101 - accuracy: 0.8315 - val_loss: 1.4611 - val_accuracy: 0.4706\n",
            "\n",
            "Epoch 00030: val_accuracy did not improve from 0.51471\n",
            "Epoch 31/50\n",
            "12/12 [==============================] - 6s 533ms/step - loss: 0.9153 - accuracy: 0.8152 - val_loss: 1.9074 - val_accuracy: 0.3971\n",
            "\n",
            "Epoch 00031: val_accuracy did not improve from 0.51471\n",
            "Epoch 32/50\n",
            "12/12 [==============================] - 6s 524ms/step - loss: 0.9048 - accuracy: 0.8207 - val_loss: 0.9710 - val_accuracy: 0.4853\n",
            "\n",
            "Epoch 00032: val_accuracy did not improve from 0.51471\n",
            "Epoch 33/50\n",
            "12/12 [==============================] - 6s 526ms/step - loss: 0.9640 - accuracy: 0.7745 - val_loss: 1.3235 - val_accuracy: 0.5938\n",
            "\n",
            "Epoch 00033: val_accuracy improved from 0.51471 to 0.59375, saving model to drive/My Drive/saved_model/my_model.h5\n",
            "Epoch 34/50\n",
            "12/12 [==============================] - 6s 537ms/step - loss: 0.8135 - accuracy: 0.8438 - val_loss: 1.3020 - val_accuracy: 0.5882\n",
            "\n",
            "Epoch 00034: val_accuracy did not improve from 0.59375\n",
            "Epoch 35/50\n",
            "12/12 [==============================] - 6s 509ms/step - loss: 0.8220 - accuracy: 0.8693 - val_loss: 1.3057 - val_accuracy: 0.5735\n",
            "\n",
            "Epoch 00035: val_accuracy did not improve from 0.59375\n",
            "Epoch 36/50\n",
            "12/12 [==============================] - 6s 534ms/step - loss: 0.8048 - accuracy: 0.8281 - val_loss: 0.3798 - val_accuracy: 0.5882\n",
            "\n",
            "Epoch 00036: val_accuracy did not improve from 0.59375\n",
            "Epoch 37/50\n",
            "12/12 [==============================] - 6s 522ms/step - loss: 0.7382 - accuracy: 0.8913 - val_loss: 1.3310 - val_accuracy: 0.5833\n",
            "\n",
            "Epoch 00037: val_accuracy did not improve from 0.59375\n",
            "Epoch 38/50\n",
            "12/12 [==============================] - 6s 526ms/step - loss: 0.7839 - accuracy: 0.8587 - val_loss: 1.2403 - val_accuracy: 0.6912\n",
            "\n",
            "Epoch 00038: val_accuracy improved from 0.59375 to 0.69118, saving model to drive/My Drive/saved_model/my_model.h5\n",
            "Epoch 39/50\n",
            "12/12 [==============================] - 6s 530ms/step - loss: 0.7605 - accuracy: 0.8560 - val_loss: 1.5716 - val_accuracy: 0.5147\n",
            "\n",
            "Epoch 00039: val_accuracy did not improve from 0.69118\n",
            "Epoch 40/50\n",
            "12/12 [==============================] - 6s 515ms/step - loss: 0.7891 - accuracy: 0.8560 - val_loss: 1.8925 - val_accuracy: 0.5882\n",
            "\n",
            "Epoch 00040: val_accuracy did not improve from 0.69118\n",
            "Epoch 41/50\n",
            "12/12 [==============================] - 7s 548ms/step - loss: 0.7248 - accuracy: 0.8802 - val_loss: 1.0625 - val_accuracy: 0.6667\n",
            "\n",
            "Epoch 00041: val_accuracy did not improve from 0.69118\n",
            "Epoch 42/50\n",
            "12/12 [==============================] - 6s 528ms/step - loss: 0.6837 - accuracy: 0.8967 - val_loss: 1.2399 - val_accuracy: 0.6912\n",
            "\n",
            "Epoch 00042: val_accuracy did not improve from 0.69118\n",
            "Epoch 43/50\n",
            "12/12 [==============================] - 6s 524ms/step - loss: 0.6814 - accuracy: 0.8967 - val_loss: 0.7193 - val_accuracy: 0.8088\n",
            "\n",
            "Epoch 00043: val_accuracy improved from 0.69118 to 0.80882, saving model to drive/My Drive/saved_model/my_model.h5\n",
            "Epoch 44/50\n",
            "12/12 [==============================] - 6s 501ms/step - loss: 0.6340 - accuracy: 0.9148 - val_loss: 1.1563 - val_accuracy: 0.6176\n",
            "\n",
            "Epoch 00044: val_accuracy did not improve from 0.80882\n",
            "Epoch 45/50\n",
            "12/12 [==============================] - 6s 537ms/step - loss: 0.6368 - accuracy: 0.8958 - val_loss: 1.1409 - val_accuracy: 0.6771\n",
            "\n",
            "Epoch 00045: val_accuracy did not improve from 0.80882\n",
            "Epoch 46/50\n",
            "12/12 [==============================] - 6s 526ms/step - loss: 0.6568 - accuracy: 0.9022 - val_loss: 1.1433 - val_accuracy: 0.6176\n",
            "\n",
            "Epoch 00046: val_accuracy did not improve from 0.80882\n",
            "Epoch 47/50\n",
            "12/12 [==============================] - 6s 515ms/step - loss: 0.5966 - accuracy: 0.9062 - val_loss: 1.2155 - val_accuracy: 0.7059\n",
            "\n",
            "Epoch 00047: val_accuracy did not improve from 0.80882\n",
            "Epoch 48/50\n",
            "12/12 [==============================] - 6s 532ms/step - loss: 0.5680 - accuracy: 0.9349 - val_loss: 0.5551 - val_accuracy: 0.6618\n",
            "\n",
            "Epoch 00048: val_accuracy did not improve from 0.80882\n",
            "Epoch 49/50\n",
            "12/12 [==============================] - 6s 523ms/step - loss: 0.5468 - accuracy: 0.9375 - val_loss: 1.4289 - val_accuracy: 0.6771\n",
            "\n",
            "Epoch 00049: val_accuracy did not improve from 0.80882\n",
            "Epoch 50/50\n",
            "12/12 [==============================] - 6s 522ms/step - loss: 0.5703 - accuracy: 0.9130 - val_loss: 0.6874 - val_accuracy: 0.7794\n",
            "\n",
            "Epoch 00050: val_accuracy did not improve from 0.80882\n"
          ],
          "name": "stdout"
        }
      ]
    },
    {
      "cell_type": "markdown",
      "metadata": {
        "id": "3SB7cAnaKcHp",
        "colab_type": "text"
      },
      "source": [
        "# Prediction"
      ]
    },
    {
      "cell_type": "code",
      "metadata": {
        "colab_type": "code",
        "id": "Rk54BEwfeAuh",
        "colab": {
          "base_uri": "https://localhost:8080/",
          "height": 691
        },
        "outputId": "4873a625-c04b-434f-d24b-6474191edf54"
      },
      "source": [
        "from keras.models import load_model\n",
        "from sklearn.metrics import classification_report, confusion_matrix, accuracy_score\n",
        "\n",
        "saved_model = 'drive/My Drive/saved_model/my_model_val_acc80882.h5'\n",
        "load_model = load_model(saved_model)\n",
        "\n",
        "Y_pred = load_model.predict_generator(val_generator, num_of_val_samples // batch_size+1)\n",
        "y_pred = np.argmax(Y_pred, axis=1)\n",
        "print('Confusion Matrix \\n')\n",
        "print(confusion_matrix(val_generator.classes, y_pred))\n",
        "print('\\n\\n accuracy score \\n')\n",
        "print(accuracy_score(val_generator.classes, y_pred))\n",
        "print('\\n \\n Classification Report \\n')\n",
        "\n",
        "target_names = label\n",
        "\n",
        "print(classification_report(val_generator.classes, y_pred, target_names=target_names))"
      ],
      "execution_count": 73,
      "outputs": [
        {
          "output_type": "stream",
          "text": [
            "Confusion Matrix \n",
            "\n",
            "[[1 2 1 3 1 1 0 0 1 0]\n",
            " [1 1 0 0 2 0 2 0 2 2]\n",
            " [0 1 3 1 0 1 2 1 1 0]\n",
            " [0 0 2 0 3 0 2 1 1 1]\n",
            " [1 0 2 0 2 0 0 1 3 1]\n",
            " [3 0 2 0 2 0 0 1 2 0]\n",
            " [0 0 1 0 1 1 1 3 1 2]\n",
            " [2 0 1 1 2 2 1 1 0 0]\n",
            " [2 1 1 0 1 0 2 0 0 3]\n",
            " [0 4 0 0 0 1 1 2 1 1]]\n",
            "\n",
            "\n",
            " accuracy score \n",
            "\n",
            "0.1\n",
            "\n",
            " \n",
            " Classification Report \n",
            "\n",
            "                   precision    recall  f1-score   support\n",
            "\n",
            "     Ariel_Sharon       0.10      0.10      0.10        10\n",
            "     Colin_Powell       0.11      0.10      0.11        10\n",
            "  Donald_Rumsfeld       0.23      0.30      0.26        10\n",
            "    George_W_Bush       0.00      0.00      0.00        10\n",
            "Gerhard_Schroeder       0.14      0.20      0.17        10\n",
            "      Hugo_Chavez       0.00      0.00      0.00        10\n",
            "    Jean_Chretien       0.09      0.10      0.10        10\n",
            "    John_Ashcroft       0.10      0.10      0.10        10\n",
            "Junichiro_Koizumi       0.00      0.00      0.00        10\n",
            "       Tony_Blair       0.10      0.10      0.10        10\n",
            "\n",
            "         accuracy                           0.10       100\n",
            "        macro avg       0.09      0.10      0.09       100\n",
            "     weighted avg       0.09      0.10      0.09       100\n",
            "\n"
          ],
          "name": "stdout"
        }
      ]
    }
  ]
}